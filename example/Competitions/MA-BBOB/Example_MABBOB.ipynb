{
 "cells": [
  {
   "cell_type": "markdown",
   "id": "4370447a-d3f6-4e4c-b763-c1dc090a6931",
   "metadata": {},
   "source": [
    "# Setup"
   ]
  },
  {
   "cell_type": "markdown",
   "id": "c4f7562e-1f0a-4777-8100-69f4afd48e88",
   "metadata": {},
   "source": [
    "This notebook illustrates how to access the Many-Affine BBOB problems using IOHexperimenter and create a submission to the corresponding competition.\n",
    "For more information about the MA-BBOB generator's construction, please see [this paper](https://arxiv.org/abs/2312.11083).\n",
    "\n",
    "To install IOHexperimenter, the following command can be used:"
   ]
  },
  {
   "cell_type": "code",
   "execution_count": 1,
   "id": "d4d3ccef-310d-4ff8-9507-be16bcfa3d5b",
   "metadata": {},
   "outputs": [],
   "source": [
    "#%pip install ioh"
   ]
  },
  {
   "cell_type": "markdown",
   "id": "c2de5d39-04bc-4d71-96e7-fdadf5601383",
   "metadata": {},
   "source": [
    "Please make sure that you use version >= 0.3.15 to follow the examples in this notebook.\n",
    "Once installed, simply import the package"
   ]
  },
  {
   "cell_type": "code",
   "execution_count": 1,
   "id": "8ae8f221-462e-42db-98cb-58aa037ba6c6",
   "metadata": {},
   "outputs": [],
   "source": [
    "import ioh"
   ]
  },
  {
   "cell_type": "markdown",
   "id": "414b3f60-c9b5-4ab8-8a58-c77ad3c949ef",
   "metadata": {},
   "source": [
    "# Accessing problems"
   ]
  },
  {
   "cell_type": "markdown",
   "id": "162b834c-e4a1-4400-b1d2-cd0fc02a9adb",
   "metadata": {},
   "source": [
    "In ioh, everything revolves around the problem class, so we start by creating an individual problem. For MA-BBOB, we have a generator which can create arbitrary problem instances. This generator can be called using either an instance number, or by providing information about the weights, instances and optima location of the components. We start of by illustrating the former approach:"
   ]
  },
  {
   "cell_type": "code",
   "execution_count": 4,
   "id": "51be79e9-eeea-4fed-9d28-2486a7d2990a",
   "metadata": {},
   "outputs": [],
   "source": [
    "f = ioh.problem.ManyAffine(instance = 1, n_variables = 5)"
   ]
  },
  {
   "cell_type": "markdown",
   "id": "ac4f5df4-2d44-48d4-83e8-fa751274c8d9",
   "metadata": {},
   "source": [
    "The resulting problem can be used as any other in iohexperimenter, for more details please see [the documentation](https://iohprofiler.github.io/IOHexperimenter/python.html)\n",
    "\n",
    "One difference between the MA-BBOB problems and the regular BBOB problems in terms of their usage is in the function ID. \n",
    "By default, all problems created using the generator have a problem ID of 0. It might be useful for analysis to change this to a different number, which can be done using:"
   ]
  },
  {
   "cell_type": "code",
   "execution_count": 6,
   "id": "0634f672-0fb9-4186-81c4-d1b5d2a12bc4",
   "metadata": {},
   "outputs": [],
   "source": [
    "f.set_id(100)"
   ]
  },
  {
   "cell_type": "markdown",
   "id": "6b764744-6c91-4a2e-b194-e33019b3ced2",
   "metadata": {},
   "source": [
    "To generate specific MA-BBOB problems, for example to have baseline data to compare to, you can utilize the alternative constructor as follows (note: the data used here is available on [Zenodo](https://doi.org/10.5281/zenodo.8208572)):"
   ]
  },
  {
   "cell_type": "code",
   "execution_count": 14,
   "id": "d6bd7128-f675-4702-a9b5-d4ed71d0f4c3",
   "metadata": {},
   "outputs": [],
   "source": [
    "import pandas as pd\n",
    "import numpy as np\n",
    "\n",
    "weights = pd.read_csv(\"weights.csv\", index_col=0)\n",
    "iids = pd.read_csv(\"iids.csv\", index_col=0)\n",
    "opt_locs = pd.read_csv(\"opt_locs.csv\", index_col=0)\n",
    "\n",
    "idx = 0\n",
    "dim = 5\n",
    "\n",
    "f_new = ioh.problem.ManyAffine(xopt = np.array(opt_locs.iloc[idx])[:dim], \n",
    "                               weights = np.array(weights.iloc[idx]),\n",
    "                               instances = np.array(iids.iloc[idx]), \n",
    "                               n_variables = dim)\n",
    "f_new.set_id(idx)\n",
    "f_new.set_instance(idx)"
   ]
  },
  {
   "cell_type": "code",
   "execution_count": 15,
   "id": "3d9a58c7-9689-4dd3-b0e6-3a5f256c64b9",
   "metadata": {},
   "outputs": [
    {
     "data": {
      "text/plain": [
       "<RealSingleObjectiveProblem 0. ManyAffine (iid=0 dim=5)>"
      ]
     },
     "execution_count": 15,
     "metadata": {},
     "output_type": "execute_result"
    }
   ],
   "source": [
    "f_new"
   ]
  },
  {
   "cell_type": "markdown",
   "id": "b6dc19d4-cec3-45af-9b0b-e3c1d84d8d21",
   "metadata": {},
   "source": [
    "## Creating your algorithm"
   ]
  },
  {
   "cell_type": "markdown",
   "id": "61593ef4-8d02-46e8-ba49-fdaef7f9a563",
   "metadata": {},
   "source": [
    "To submit to the MA-BBOB competition, you simply need to create an optimization algorithm which accepts an ioh-problem as its input to the 'call' function. \n",
    "Your submission has to include the code itself as a single python file, but any additional information (e.g. performance data on the given instances) can also be included in the repository. \n",
    "In addition to the code, you should include a readme file (markdown) which describes the algorithm, and any relevant information about its execution.\n",
    "\n",
    "For evaluation, we will generate a new set of instances and run all submissions, as well as our baselines. Each algorithm has a budget of 10000*dimensionality, and will be run 10 times with different seeds. As such, it is important that your algorithm accepts a seed as input!\n",
    "\n",
    "Here, we show an example structure for a RandomSearch algorithm which would be a valid entry to the competition:"
   ]
  },
  {
   "cell_type": "code",
   "execution_count": 31,
   "id": "2f70cfbf-667d-4bc3-b99e-c9921a9037b3",
   "metadata": {},
   "outputs": [],
   "source": [
    "class RandomSearch:\n",
    "    'Simple random search algorithm'\n",
    "    def __init__(self, budget_factor: int = 10000):\n",
    "        self.budget_factor: int = budget_factor\n",
    "        \n",
    "    def __call__(self, problem: ioh.problem.RealSingleObjective, seed: int) -> None:\n",
    "        'Evaluate the problem n times with a randomly generated solution'\n",
    "        rng = np.random.RandomState(seed)\n",
    "        for _ in range(self.budget_factor * problem.meta_data.n_variables):\n",
    "            x = rng.uniform(problem.bounds.lb, problem.bounds.ub)\n",
    "            problem(x)             "
   ]
  },
  {
   "cell_type": "markdown",
   "id": "d04be1a8-9666-4d9a-a03f-13d2f78f567a",
   "metadata": {},
   "source": [
    "## Testing your algorithm"
   ]
  },
  {
   "cell_type": "markdown",
   "id": "c8c89ad8-3f96-42aa-b55d-c7febd1c95b2",
   "metadata": {},
   "source": [
    "To benchmark your algorithm, you can use any MA-BBOB instances. Here, we show an example using the instances from [Zenodo](https://doi.org/10.5281/zenodo.8208572) "
   ]
  },
  {
   "cell_type": "code",
   "execution_count": 27,
   "id": "142f2938-862d-4fc1-993f-5213d969a53b",
   "metadata": {},
   "outputs": [],
   "source": [
    "import os\n",
    "\n",
    "logger = ioh.logger.Analyzer(\n",
    "    root=os.getcwd(),                  # Store data in the current working directory\n",
    "    folder_name=\"MAdata\",       # in a folder named: 'my-experiment'\n",
    "    algorithm_name=\"RandomSearch\",    # meta-data for the algorithm used to generate these results\n",
    "    store_positions=False               # disable storing x-variables in the logged files\n",
    ")"
   ]
  },
  {
   "cell_type": "code",
   "execution_count": 28,
   "id": "1d0d08a4-5c59-452f-b88b-edf537852e64",
   "metadata": {},
   "outputs": [],
   "source": [
    "RS = RandomSearch()\n",
    "for idx in range(5):\n",
    "\n",
    "    f_new = ioh.problem.ManyAffine(xopt = np.array(opt_locs.iloc[idx])[:dim], \n",
    "                                   weights = np.array(weights.iloc[idx]),\n",
    "                                   instances = np.array(iids.iloc[idx]), \n",
    "                                   n_variables = dim)\n",
    "    f_new.set_id(idx)\n",
    "    f_new.set_instance(idx)\n",
    "    f_new.attach_logger(logger)\n",
    "    \n",
    "    for seed in range(10):\n",
    "        RS(f_new, seed)\n",
    "        f_new.reset()\n",
    "logger.close()"
   ]
  },
  {
   "cell_type": "markdown",
   "id": "04d24f60-5cee-4a86-a667-6ec26cd38364",
   "metadata": {},
   "source": [
    "You can then upload your data to IOHanalyzer as normal, or alternatively process the files directly to get the AOCC values to compare with the processed data from [Zenodo](https://doi.org/10.5281/zenodo.8208572) "
   ]
  },
  {
   "cell_type": "code",
   "execution_count": 52,
   "id": "00013358-663b-4755-8c18-5204c6e093ea",
   "metadata": {},
   "outputs": [],
   "source": [
    "def get_auc_table(fname):\n",
    "    max_budget = 10000\n",
    "    dt = pd.read_csv(fname, sep=' ', decimal=',')\n",
    "    dt = dt[dt['raw_y'] != 'raw_y'].astype(float)\n",
    "    dt['run_id'] = np.cumsum(dt['evaluations'] == 1)\n",
    "    items = []\n",
    "    for run in np.unique(dt['run_id']):\n",
    "        dt_temp = dt[dt['run_id'] == run]\n",
    "        new_row = pd.DataFrame({'evaluations' : max_budget, 'raw_y':min(dt_temp['raw_y']), 'run_id' : run}, index=[0])\n",
    "        dt_temp = pd.concat([dt_temp, new_row], ignore_index=True)\n",
    "        auc = np.sum((2 - np.clip(np.log10(dt_temp['raw_y'][:-1]), -8, 2)) * np.ediff1d(dt_temp['evaluations']))/(max_budget*10) \n",
    "        items.append([fname, auc, run])\n",
    "    dt_auc = pd.DataFrame.from_records(items, columns=['fname', 'aocc', 'run'])\n",
    "    return dt_auc"
   ]
  },
  {
   "cell_type": "code",
   "execution_count": 53,
   "id": "74d095f8-88ab-49ee-8565-763116a22f7c",
   "metadata": {},
   "outputs": [],
   "source": [
    "aocc_idx0 = get_auc_table(\"MAdata/data_f0_ManyAffine/IOHprofiler_f0_DIM5.dat\")"
   ]
  },
  {
   "cell_type": "markdown",
   "id": "8951dd2c-7951-4355-917a-da174c16b9c6",
   "metadata": {},
   "source": [
    "The competition gets judged on average AOCC value across all test instances, using the same bounds and scaling as the function above. "
   ]
  },
  {
   "cell_type": "markdown",
   "id": "aab6ff5d-7d05-4da6-b868-bd49071a505b",
   "metadata": {},
   "source": [
    "# Questions"
   ]
  },
  {
   "cell_type": "markdown",
   "id": "e9eb1177-6da8-45b5-a504-77b792deb17d",
   "metadata": {},
   "source": [
    "If you have any questions about using the MA-BBOB generator, or the MA-BBOB competition, please contact [Diederick Vermetten](mailto:d.l.vermetten@liacs.leidenuniv.nl)"
   ]
  },
  {
   "cell_type": "code",
   "execution_count": 56,
   "id": "3926582b-cf83-4484-b29f-35331b53eb5e",
   "metadata": {},
   "outputs": [],
   "source": [
    "import glob\n",
    "\n",
    "import numpy as np\n",
    "from shutil import rmtree\n",
    "\n",
    "def clean():\n",
    "    for name in (\"MAdata\"):\n",
    "        for path in glob.glob(f\"{name}*\"):\n",
    "            if os.path.isfile(path):\n",
    "                os.remove(path)\n",
    "            if os.path.isdir(path):\n",
    "                rmtree(path, ignore_errors=True)\n",
    "\n",
    "clean()"
   ]
  }
 ],
 "metadata": {
  "kernelspec": {
   "display_name": "env_MABBOB",
   "language": "python",
   "name": "env_mabbob"
  },
  "language_info": {
   "codemirror_mode": {
    "name": "ipython",
    "version": 3
   },
   "file_extension": ".py",
   "mimetype": "text/x-python",
   "name": "python",
   "nbconvert_exporter": "python",
   "pygments_lexer": "ipython3",
   "version": "3.10.12"
  }
 },
 "nbformat": 4,
 "nbformat_minor": 5
}
