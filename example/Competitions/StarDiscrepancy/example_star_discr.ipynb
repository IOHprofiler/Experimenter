{
 "cells": [
  {
   "cell_type": "markdown",
   "id": "0baf691e-b0d5-4acd-8057-a4c4e99ddb49",
   "metadata": {},
   "source": [
    "# Setup"
   ]
  },
  {
   "cell_type": "markdown",
   "id": "2cb84e58-8b54-4d61-b5ff-08c845b13d4f",
   "metadata": {},
   "source": [
    "This notebook illustrates how to access the Star Discrepancy problems using IOHexperimenter.\n",
    "To install IOHexperimenter, the following command can be used:"
   ]
  },
  {
   "cell_type": "code",
   "execution_count": 1,
   "id": "56f53a36-e40c-4ff3-9c08-12b8745524a7",
   "metadata": {},
   "outputs": [],
   "source": [
    "#%pip install ioh"
   ]
  },
  {
   "cell_type": "markdown",
   "id": "d1d6d79b-8aa4-419e-80c7-15b7fd0c2492",
   "metadata": {},
   "source": [
    "Please make sure that you use version >= 0.3.9 to follow the examples in this notebook.\n",
    "Once installed, simply import the package"
   ]
  },
  {
   "cell_type": "code",
   "execution_count": 2,
   "id": "3bfc62ad-24cd-4dc6-b3d1-cd9d2293631b",
   "metadata": {},
   "outputs": [],
   "source": [
    "import ioh"
   ]
  },
  {
   "cell_type": "markdown",
   "id": "b509ddaa-446d-4629-b118-f4dbc08ab44f",
   "metadata": {},
   "source": [
    "# Accessing problems"
   ]
  },
  {
   "cell_type": "markdown",
   "id": "d87a4346-c909-4c6e-8de8-6f80821fce69",
   "metadata": {},
   "source": [
    "In ioh, everything revolves around the problem class, so we start by creating an individual problem. For the star discrepancy, the problems can be represented as either continuous or discrete. We start with the continuous version, but the underlying problems are identical, and the interfaces are equivalent. The 2024 version of the competition uses the integer-version of these problems, which are described in the next section. \n",
    "\n",
    "To see which problems are available, we can check:"
   ]
  },
  {
   "cell_type": "code",
   "execution_count": 3,
   "id": "f295e32c-aa60-45d9-88e3-fad61ca35dc5",
   "metadata": {},
   "outputs": [
    {
     "data": {
      "text/plain": [
       "{30: 'UniformStarDiscrepancy10',\n",
       " 31: 'UniformStarDiscrepancy25',\n",
       " 32: 'UniformStarDiscrepancy50',\n",
       " 33: 'UniformStarDiscrepancy100',\n",
       " 34: 'UniformStarDiscrepancy150',\n",
       " 35: 'UniformStarDiscrepancy200',\n",
       " 36: 'UniformStarDiscrepancy250',\n",
       " 37: 'UniformStarDiscrepancy500',\n",
       " 38: 'UniformStarDiscrepancy750',\n",
       " 39: 'UniformStarDiscrepancy1000',\n",
       " 40: 'SobolStarDiscrepancy10',\n",
       " 41: 'SobolStarDiscrepancy25',\n",
       " 42: 'SobolStarDiscrepancy50',\n",
       " 43: 'SobolStarDiscrepancy100',\n",
       " 44: 'SobolStarDiscrepancy150',\n",
       " 45: 'SobolStarDiscrepancy200',\n",
       " 46: 'SobolStarDiscrepancy250',\n",
       " 47: 'SobolStarDiscrepancy500',\n",
       " 48: 'SobolStarDiscrepancy750',\n",
       " 49: 'SobolStarDiscrepancy1000',\n",
       " 50: 'HaltonStarDiscrepancy10',\n",
       " 51: 'HaltonStarDiscrepancy25',\n",
       " 52: 'HaltonStarDiscrepancy50',\n",
       " 53: 'HaltonStarDiscrepancy100',\n",
       " 54: 'HaltonStarDiscrepancy150',\n",
       " 55: 'HaltonStarDiscrepancy200',\n",
       " 56: 'HaltonStarDiscrepancy250',\n",
       " 57: 'HaltonStarDiscrepancy500',\n",
       " 58: 'HaltonStarDiscrepancy750',\n",
       " 59: 'HaltonStarDiscrepancy1000'}"
      ]
     },
     "execution_count": 3,
     "metadata": {},
     "output_type": "execute_result"
    }
   ],
   "source": [
    "ioh.ProblemClass.STAR_REAL.problems"
   ]
  },
  {
   "cell_type": "markdown",
   "id": "ea607fe2-305f-4745-bf52-22f222e12886",
   "metadata": {},
   "source": [
    "We can then construct a problem as follows:"
   ]
  },
  {
   "cell_type": "code",
   "execution_count": 4,
   "id": "a8a575fc-2eed-4591-88a1-8b7df038dbc8",
   "metadata": {},
   "outputs": [],
   "source": [
    "f = ioh.get_problem(30, instance=1, dimension=5, problem_class=ioh.ProblemClass.STAR_REAL)"
   ]
  },
  {
   "cell_type": "markdown",
   "id": "01d7975c-490e-4a19-8b33-2b0e8f1903fd",
   "metadata": {},
   "source": [
    "This problem contains all kinds of information about the way it is constructed. It also keeps track of all evaluations, which can be seen as follows:"
   ]
  },
  {
   "cell_type": "code",
   "execution_count": 5,
   "id": "6af1db0b-2ac5-4b51-8ced-1a03bb81272f",
   "metadata": {},
   "outputs": [
    {
     "name": "stdout",
     "output_type": "stream",
     "text": [
      "<MetaData: UniformStarDiscrepancy10 id: 30 iid: 1 dim: 5>\n",
      "<State evaluations: 0 optimum_found: false current_best: <Solution x: [2.247116418577895e+308, 2.247116418577895e+308, 2.247116418577895e+308, 2.247116418577895e+308, 2.247116418577895e+308] y: -inf>>\n"
     ]
    }
   ],
   "source": [
    "print(f.meta_data)\n",
    "print(f.state)"
   ]
  },
  {
   "cell_type": "markdown",
   "id": "89426fbd-bf71-4442-9c7d-b535fb30bbfc",
   "metadata": {},
   "source": [
    "Since this problem can be evaluated as a common python function, it should work directly with any optimizer. We make a basic random search to illustrate this:"
   ]
  },
  {
   "cell_type": "code",
   "execution_count": 6,
   "id": "e4879f7e-1df2-4bf4-b5e8-7319b851c20d",
   "metadata": {},
   "outputs": [],
   "source": [
    "import numpy as np\n",
    "\n",
    "class RandomSearch:\n",
    "    'Simple random search algorithm'\n",
    "    def __init__(self, n: int, length: float = 0.0):\n",
    "        self.n: int = n\n",
    "        self.length: float = length\n",
    "        \n",
    "    def __call__(self, problem: ioh.problem.RealSingleObjective) -> None:\n",
    "        'Evaluate the problem n times with a randomly generated solution'\n",
    "        \n",
    "        for _ in range(self.n):\n",
    "            # We can use the problems bounds accessor to get information about the problem bounds\n",
    "            x = np.random.uniform(problem.bounds.lb, problem.bounds.ub)\n",
    "            self.length = np.linalg.norm(x)\n",
    "            \n",
    "            problem(x)   "
   ]
  },
  {
   "cell_type": "markdown",
   "id": "0a541dde-9cf3-4af4-a660-5091e70b62e0",
   "metadata": {},
   "source": [
    "If we want to run this algorithm on our problem, we can do the following:"
   ]
  },
  {
   "cell_type": "code",
   "execution_count": 7,
   "id": "a38de893-a238-4ab4-bfe9-d3590d4fed02",
   "metadata": {},
   "outputs": [
    {
     "name": "stdout",
     "output_type": "stream",
     "text": [
      "<State evaluations: 10 optimum_found: false current_best: <Solution x: [0.8494103953454833, 0.31392058160556224, 0.6274687987418135, 0.6151237512038531, 0.6932407016816623] y: 0.07134705422944276>>\n"
     ]
    }
   ],
   "source": [
    "r = RandomSearch(10)\n",
    "r(f)\n",
    "print(f.state)"
   ]
  },
  {
   "cell_type": "markdown",
   "id": "79320baa-fc59-450c-8ecd-ef00da3a0121",
   "metadata": {},
   "source": [
    "To run multiple independent runs on the same problem, we can reset the state as follows:\n"
   ]
  },
  {
   "cell_type": "code",
   "execution_count": 8,
   "id": "063cf170-024a-402c-b578-0865643da891",
   "metadata": {},
   "outputs": [],
   "source": [
    "f.reset()"
   ]
  },
  {
   "cell_type": "markdown",
   "id": "34a5275f-c80d-4c3c-9f0a-670a5f32499c",
   "metadata": {},
   "source": [
    "# Logging"
   ]
  },
  {
   "cell_type": "markdown",
   "id": "1ffb6ea2-0ccd-4ae1-86de-eb872648b292",
   "metadata": {},
   "source": [
    "The default usage of IOHExperimenter is in generating logs of benchmarking experiments which can be analyzed in IOHAnalyzer."
   ]
  },
  {
   "cell_type": "code",
   "execution_count": 9,
   "id": "84a76cbe-520a-44e4-9b1a-525eb4cfe4c4",
   "metadata": {},
   "outputs": [
    {
     "data": {
      "text/plain": [
       "<Analyzer /home/jacob/code/IOHexperimenter/example/my-experiment>"
      ]
     },
     "execution_count": 9,
     "metadata": {},
     "output_type": "execute_result"
    }
   ],
   "source": [
    "import os\n",
    "\n",
    "logger = ioh.logger.Analyzer(\n",
    "    root=os.getcwd(),                  # Store data in the current working directory\n",
    "    folder_name=\"my-experiment\",       # in a folder named: 'my-experiment'\n",
    "    algorithm_name=\"random-search\",    # meta-data for the algorithm used to generate these results\n",
    "    store_positions=False               # disable storing x-variables in the logged files\n",
    ")\n",
    "\n",
    "# this automatically creates a folder 'my-experiment' in the current working directory\n",
    "# if the folder already exists, it will given an additional number to make the name unique\n",
    "logger"
   ]
  },
  {
   "cell_type": "markdown",
   "id": "4cb27e5f-4cca-4707-afbb-54b9987aba6e",
   "metadata": {},
   "source": [
    "We can add this logger to a problem so we can store the data when running our algorithm"
   ]
  },
  {
   "cell_type": "code",
   "execution_count": 10,
   "id": "5a306a7c-773e-4251-a3e3-05ac752dac8e",
   "metadata": {},
   "outputs": [],
   "source": [
    "f.attach_logger(logger)"
   ]
  },
  {
   "cell_type": "code",
   "execution_count": 11,
   "id": "416f61ff-1a16-4d29-b167-957eb657ccda",
   "metadata": {},
   "outputs": [],
   "source": [
    "r = RandomSearch(100)\n",
    "r(f)"
   ]
  },
  {
   "cell_type": "markdown",
   "id": "95a7cf21-0a70-4bf9-a325-82f0c79b6851",
   "metadata": {},
   "source": [
    "Once finished with the run, we can close the logger to force it to write the data (happens automatically when running as a python script)"
   ]
  },
  {
   "cell_type": "code",
   "execution_count": 12,
   "id": "8a060dec-a11a-43ca-9f76-a695f8d04bac",
   "metadata": {},
   "outputs": [],
   "source": [
    "logger.close()"
   ]
  },
  {
   "cell_type": "markdown",
   "id": "4ee1d180-1b7f-4b28-b127-3e6eeae41ab4",
   "metadata": {},
   "source": [
    "# Experiment class"
   ]
  },
  {
   "cell_type": "markdown",
   "id": "203e6d30-4de2-497c-b9b3-2ed202dec8bb",
   "metadata": {},
   "source": [
    "In Python, we provide the Experiment class which can be used to easily run a given algorithm over a larger number of problems."
   ]
  },
  {
   "cell_type": "code",
   "execution_count": 13,
   "id": "e0886d3e-2d58-41a9-ab65-775d56aa19f2",
   "metadata": {},
   "outputs": [],
   "source": [
    "experiment = ioh.Experiment(\n",
    "    algorithm = RandomSearch(10), # An algorithm instance\n",
    "    fids = list(ioh.ProblemClass.STAR_REAL.problems.keys())[:3],               # the id's of the problems we want to test\n",
    "    dims = [2,5],                 # the dimensions of the problems we want to test\n",
    "    iids = [1,2,3],               # the instance id's of the problems we want to test\n",
    "    reps = 1,                     # the number of runs,\n",
    "    problem_class=ioh.ProblemClass.STAR_REAL, #the problem type\n",
    "    zip_output = True       \n",
    ")"
   ]
  },
  {
   "cell_type": "markdown",
   "id": "28ff45b6-9067-4b85-9c66-226cffcff507",
   "metadata": {},
   "source": [
    "Running this experiment creates a zip-file, which can directly be processed by IOHanalyzer (https://iohanalyzer.liacs.nl)"
   ]
  },
  {
   "cell_type": "code",
   "execution_count": 14,
   "id": "74265079-9b37-47f6-897a-2aaa6af3052d",
   "metadata": {},
   "outputs": [
    {
     "data": {
      "text/plain": [
       "<ioh.Experiment at 0x7fe067432fa0>"
      ]
     },
     "execution_count": 14,
     "metadata": {},
     "output_type": "execute_result"
    }
   ],
   "source": [
    "experiment()"
   ]
  },
  {
   "cell_type": "markdown",
   "id": "367dcea5-bc4f-4a17-95e4-5b3985a0cbc6",
   "metadata": {},
   "source": [
    "## Discrete version of the problems"
   ]
  },
  {
   "cell_type": "markdown",
   "id": "4a452aca-234a-4ef3-86c6-b3c63feac18d",
   "metadata": {},
   "source": [
    "In addition to the continuous problems, the star-discrepancy problem can also be considered as an integer optimization problem. Since we know that the optimial solution shares each of its coordinates with an exisiting grid-point, we can simply specify for each coordinate with the (sorted) grid points to use for the new solution. \n",
    "\n",
    "We can list the available problems in the same way as the continuous case"
   ]
  },
  {
   "cell_type": "code",
   "execution_count": 15,
   "id": "bfb36bd6-c259-4fd8-aef2-a0b51d36bd28",
   "metadata": {},
   "outputs": [
    {
     "data": {
      "text/plain": [
       "{30: 'UniformStarDiscrepancy10',\n",
       " 31: 'UniformStarDiscrepancy25',\n",
       " 32: 'UniformStarDiscrepancy50',\n",
       " 33: 'UniformStarDiscrepancy100',\n",
       " 34: 'UniformStarDiscrepancy150',\n",
       " 35: 'UniformStarDiscrepancy200',\n",
       " 36: 'UniformStarDiscrepancy250',\n",
       " 37: 'UniformStarDiscrepancy500',\n",
       " 38: 'UniformStarDiscrepancy750',\n",
       " 39: 'UniformStarDiscrepancy1000',\n",
       " 40: 'SobolStarDiscrepancy10',\n",
       " 41: 'SobolStarDiscrepancy25',\n",
       " 42: 'SobolStarDiscrepancy50',\n",
       " 43: 'SobolStarDiscrepancy100',\n",
       " 44: 'SobolStarDiscrepancy150',\n",
       " 45: 'SobolStarDiscrepancy200',\n",
       " 46: 'SobolStarDiscrepancy250',\n",
       " 47: 'SobolStarDiscrepancy500',\n",
       " 48: 'SobolStarDiscrepancy750',\n",
       " 49: 'SobolStarDiscrepancy1000',\n",
       " 50: 'HaltonStarDiscrepancy10',\n",
       " 51: 'HaltonStarDiscrepancy25',\n",
       " 52: 'HaltonStarDiscrepancy50',\n",
       " 53: 'HaltonStarDiscrepancy100',\n",
       " 54: 'HaltonStarDiscrepancy150',\n",
       " 55: 'HaltonStarDiscrepancy200',\n",
       " 56: 'HaltonStarDiscrepancy250',\n",
       " 57: 'HaltonStarDiscrepancy500',\n",
       " 58: 'HaltonStarDiscrepancy750',\n",
       " 59: 'HaltonStarDiscrepancy1000'}"
      ]
     },
     "execution_count": 15,
     "metadata": {},
     "output_type": "execute_result"
    }
   ],
   "source": [
    "ioh.ProblemClass.STAR_INTEGER.problems"
   ]
  },
  {
   "cell_type": "code",
   "execution_count": 16,
   "id": "ccdd283d-8567-47ed-8fea-51037a21a5fa",
   "metadata": {},
   "outputs": [],
   "source": [
    "f = ioh.get_problem(30, instance=1, dimension=5, problem_class=ioh.ProblemClass.STAR_INTEGER)"
   ]
  },
  {
   "cell_type": "markdown",
   "id": "c15e6c63-391a-438d-be07-ccbcbe899e87",
   "metadata": {},
   "source": [
    "The range of available integers scales with the number of grid-points, while the dimension remains the same as the continuous version. We can check this as follows (note that the bounds are inclusive):"
   ]
  },
  {
   "cell_type": "code",
   "execution_count": 17,
   "id": "7adb5523-8b05-4e48-8ff3-6253d8501fe1",
   "metadata": {},
   "outputs": [
    {
     "data": {
      "text/plain": [
       "<BoxConstraint lb: [[0, 0, 0, 0, 0]] ub: [[10, 10, 10, 10, 10]]>"
      ]
     },
     "execution_count": 17,
     "metadata": {},
     "output_type": "execute_result"
    }
   ],
   "source": [
    "f.bounds"
   ]
  },
  {
   "cell_type": "code",
   "execution_count": 18,
   "id": "5160326c-84fc-4a21-9863-4f2b28ebdb3c",
   "metadata": {},
   "outputs": [
    {
     "data": {
      "text/plain": [
       "0.14038693698597768"
      ]
     },
     "execution_count": 18,
     "metadata": {},
     "output_type": "execute_result"
    }
   ],
   "source": [
    "f([10,0,10,10,10])"
   ]
  },
  {
   "cell_type": "code",
   "execution_count": 19,
   "id": "778a6697-dedd-4509-9a7e-13cd4cb4ce70",
   "metadata": {},
   "outputs": [],
   "source": [
    "class RandomSearch_int:\n",
    "    'Simple random search algorithm'\n",
    "    def __init__(self, n: int, length: float = 0.0):\n",
    "        self.n: int = n\n",
    "        self.length: float = length\n",
    "        \n",
    "    def __call__(self, problem: ioh.problem.IntegerSingleObjective) -> None:\n",
    "        'Evaluate the problem n times with a randomly generated solution'\n",
    "        \n",
    "        for _ in range(self.n):\n",
    "            # We can use the problems bounds accessor to get information about the problem bounds\n",
    "            x = np.random.randint(problem.bounds.lb, problem.bounds.ub+1) #+1 since our upper bound is inclusive\n",
    "            self.length = np.linalg.norm(x)\n",
    "            \n",
    "            problem(x)   "
   ]
  },
  {
   "cell_type": "code",
   "execution_count": 20,
   "id": "8948d79a-3042-4561-9a22-9963c27fdd4e",
   "metadata": {},
   "outputs": [],
   "source": [
    "r = RandomSearch_int(100)\n",
    "r(f)"
   ]
  },
  {
   "cell_type": "code",
   "execution_count": 21,
   "id": "059087e2-3b0b-4799-98c5-83bbccbe79d0",
   "metadata": {},
   "outputs": [
    {
     "data": {
      "text/plain": [
       "<State evaluations: 101 optimum_found: false current_best: <Solution x: [8, 3, 10, 5, 9] y: 0.27935176246286275>>"
      ]
     },
     "execution_count": 21,
     "metadata": {},
     "output_type": "execute_result"
    }
   ],
   "source": [
    "f.state"
   ]
  },
  {
   "cell_type": "markdown",
   "id": "245df2bc-dffe-4ed4-b379-7fca48f6d342",
   "metadata": {},
   "source": [
    "## More information"
   ]
  },
  {
   "cell_type": "markdown",
   "id": "33c20e04-a75a-4646-ad39-49702976f072",
   "metadata": {},
   "source": [
    "For more background and other information on using IOHexperimenter, we refer to https://iohprofiler.github.io/IOHexp/\n",
    "\n",
    "If you have any questions about the usage of the STAR_REAL discrepancy problems, or about IOHprofiler in general, please make an issue on https://github.com/IOHprofiler/IOHexperimenter"
   ]
  },
  {
   "cell_type": "markdown",
   "id": "d08d0d62-9e10-4529-ba36-4f3431721b3c",
   "metadata": {
    "tags": []
   },
   "source": [
    "## Cleanup for CI"
   ]
  },
  {
   "cell_type": "code",
   "execution_count": 22,
   "id": "b2a30781-e702-458a-811e-5a63d302d9b1",
   "metadata": {},
   "outputs": [],
   "source": [
    "# cleanup\n",
    "from shutil import rmtree\n",
    "import os\n",
    "import glob\n",
    "\n",
    "def clean():\n",
    "    for name in (\"my-experiment\", \"ioh_data\"):\n",
    "        for path in glob.glob(f\"{name}*\"):\n",
    "            if os.path.isfile(path):\n",
    "                os.remove(path)\n",
    "            if os.path.isdir(path):\n",
    "                rmtree(path, ignore_errors=True)\n",
    "\n",
    "def ls(p=\"./\"):\n",
    "    for obj in os.listdir(os.path.normpath(p)):\n",
    "        print(obj)\n",
    "\n",
    "def cat(f):\n",
    "    with open(os.path.normpath(f)) as h:\n",
    "        print(h.read())\n",
    "\n",
    "clean()\n",
    "\n",
    "rmtree(\"my-experiment\", ignore_errors=True)\n",
    "rmtree(\"ioh_data\", ignore_errors=True)"
   ]
  }
 ],
 "metadata": {
  "kernelspec": {
   "display_name": "Python 3 (ipykernel)",
   "language": "python",
   "name": "python3"
  },
  "language_info": {
   "codemirror_mode": {
    "name": "ipython",
    "version": 3
   },
   "file_extension": ".py",
   "mimetype": "text/x-python",
   "name": "python",
   "nbconvert_exporter": "python",
   "pygments_lexer": "ipython3",
   "version": "3.10.12"
  }
 },
 "nbformat": 4,
 "nbformat_minor": 5
}
